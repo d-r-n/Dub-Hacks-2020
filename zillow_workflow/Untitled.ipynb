{
 "cells": [
  {
   "cell_type": "code",
   "execution_count": null,
   "metadata": {},
   "outputs": [],
   "source": [
    "import sys\n",
    "sys.path.insert(0,'')\n",
    "from selenium import webdriver\n",
    "chrome_options = webdriver.ChromeOptions()\n",
    "chrome_options.add_argument('--headless')\n",
    "chrome_options.add_argument('--no-sandbox')\n",
    "chrome_options.add_argument('--disable-dev-shm-usage')"
   ]
  },
  {
   "cell_type": "code",
   "execution_count": null,
   "metadata": {},
   "outputs": [],
   "source": [
    "import pandas as pd\n",
    "driver = webdriver.Chrome('/Users/DRNPRO/Documents/chromedriver', options=chrome_options)\n",
    "driver.get('https://www.beeradvocate.com/beer/top-rated/')"
   ]
  },
  {
   "cell_type": "code",
   "execution_count": null,
   "metadata": {},
   "outputs": [],
   "source": []
  },
  {
   "cell_type": "code",
   "execution_count": null,
   "metadata": {},
   "outputs": [],
   "source": []
  },
  {
   "cell_type": "code",
   "execution_count": 1,
   "metadata": {},
   "outputs": [
    {
     "name": "stdout",
     "output_type": "stream",
     "text": [
      "Enter your WRDS username [DRNPRO]:nikoldy\n",
      "Enter your password:········\n",
      "WRDS recommends setting up a .pgpass file.\n",
      "You can find more info here:\n",
      "https://www.postgresql.org/docs/9.5/static/libpq-pgpass.html.\n",
      "Loading library list...\n",
      "Done\n"
     ]
    }
   ],
   "source": [
    "import wrds\n",
    "db = wrds.Connection()"
   ]
  },
  {
   "cell_type": "code",
   "execution_count": 19,
   "metadata": {},
   "outputs": [
    {
     "name": "stdout",
     "output_type": "stream",
     "text": [
      "Requirement already satisfied: yfinance in /Applications/anaconda3/lib/python3.7/site-packages (0.1.55)\n",
      "Requirement already satisfied: pandas>=0.24 in /Applications/anaconda3/lib/python3.7/site-packages (from yfinance) (1.0.1)\n",
      "Requirement already satisfied: numpy>=1.15 in /Applications/anaconda3/lib/python3.7/site-packages (from yfinance) (1.18.1)\n",
      "Requirement already satisfied: lxml>=4.5.1 in /Applications/anaconda3/lib/python3.7/site-packages (from yfinance) (4.6.0)\n",
      "Requirement already satisfied: requests>=2.20 in /Applications/anaconda3/lib/python3.7/site-packages (from yfinance) (2.22.0)\n",
      "Requirement already satisfied: multitasking>=0.0.7 in /Applications/anaconda3/lib/python3.7/site-packages (from yfinance) (0.0.9)\n",
      "Requirement already satisfied: pytz>=2017.2 in /Applications/anaconda3/lib/python3.7/site-packages (from pandas>=0.24->yfinance) (2019.3)\n",
      "Requirement already satisfied: python-dateutil>=2.6.1 in /Applications/anaconda3/lib/python3.7/site-packages (from pandas>=0.24->yfinance) (2.8.1)\n",
      "Requirement already satisfied: idna<2.9,>=2.5 in /Applications/anaconda3/lib/python3.7/site-packages (from requests>=2.20->yfinance) (2.8)\n",
      "Requirement already satisfied: chardet<3.1.0,>=3.0.2 in /Applications/anaconda3/lib/python3.7/site-packages (from requests>=2.20->yfinance) (3.0.4)\n",
      "Requirement already satisfied: urllib3!=1.25.0,!=1.25.1,<1.26,>=1.21.1 in /Applications/anaconda3/lib/python3.7/site-packages (from requests>=2.20->yfinance) (1.25.8)\n",
      "Requirement already satisfied: certifi>=2017.4.17 in /Applications/anaconda3/lib/python3.7/site-packages (from requests>=2.20->yfinance) (2019.11.28)\n",
      "Requirement already satisfied: six>=1.5 in /Applications/anaconda3/lib/python3.7/site-packages (from python-dateutil>=2.6.1->pandas>=0.24->yfinance) (1.14.0)\n"
     ]
    },
    {
     "data": {
      "text/html": [
       "<div>\n",
       "<style scoped>\n",
       "    .dataframe tbody tr th:only-of-type {\n",
       "        vertical-align: middle;\n",
       "    }\n",
       "\n",
       "    .dataframe tbody tr th {\n",
       "        vertical-align: top;\n",
       "    }\n",
       "\n",
       "    .dataframe thead th {\n",
       "        text-align: right;\n",
       "    }\n",
       "</style>\n",
       "<table border=\"1\" class=\"dataframe\">\n",
       "  <thead>\n",
       "    <tr style=\"text-align: right;\">\n",
       "      <th>Symbols</th>\n",
       "      <th>AAPL</th>\n",
       "      <th>FB</th>\n",
       "      <th>C</th>\n",
       "      <th>DIS</th>\n",
       "    </tr>\n",
       "    <tr>\n",
       "      <th>Date</th>\n",
       "      <th></th>\n",
       "      <th></th>\n",
       "      <th></th>\n",
       "      <th></th>\n",
       "    </tr>\n",
       "  </thead>\n",
       "  <tbody>\n",
       "    <tr>\n",
       "      <th>2018-01-02</th>\n",
       "      <td>NaN</td>\n",
       "      <td>NaN</td>\n",
       "      <td>NaN</td>\n",
       "      <td>NaN</td>\n",
       "    </tr>\n",
       "    <tr>\n",
       "      <th>2018-01-03</th>\n",
       "      <td>-0.000174</td>\n",
       "      <td>0.017914</td>\n",
       "      <td>0.003093</td>\n",
       "      <td>0.004293</td>\n",
       "    </tr>\n",
       "    <tr>\n",
       "      <th>2018-01-04</th>\n",
       "      <td>0.004645</td>\n",
       "      <td>-0.001841</td>\n",
       "      <td>0.012334</td>\n",
       "      <td>-0.000445</td>\n",
       "    </tr>\n",
       "    <tr>\n",
       "      <th>2018-01-05</th>\n",
       "      <td>0.011385</td>\n",
       "      <td>0.013671</td>\n",
       "      <td>-0.001324</td>\n",
       "      <td>-0.005435</td>\n",
       "    </tr>\n",
       "    <tr>\n",
       "      <th>2018-01-08</th>\n",
       "      <td>-0.003714</td>\n",
       "      <td>0.007653</td>\n",
       "      <td>-0.011670</td>\n",
       "      <td>-0.014334</td>\n",
       "    </tr>\n",
       "    <tr>\n",
       "      <th>...</th>\n",
       "      <td>...</td>\n",
       "      <td>...</td>\n",
       "      <td>...</td>\n",
       "      <td>...</td>\n",
       "    </tr>\n",
       "    <tr>\n",
       "      <th>2020-10-12</th>\n",
       "      <td>0.063521</td>\n",
       "      <td>0.042730</td>\n",
       "      <td>0.021144</td>\n",
       "      <td>-0.000080</td>\n",
       "    </tr>\n",
       "    <tr>\n",
       "      <th>2020-10-13</th>\n",
       "      <td>-0.026527</td>\n",
       "      <td>0.001414</td>\n",
       "      <td>-0.047951</td>\n",
       "      <td>0.031928</td>\n",
       "    </tr>\n",
       "    <tr>\n",
       "      <th>2020-10-14</th>\n",
       "      <td>0.000743</td>\n",
       "      <td>-0.015644</td>\n",
       "      <td>-0.014881</td>\n",
       "      <td>-0.018378</td>\n",
       "    </tr>\n",
       "    <tr>\n",
       "      <th>2020-10-15</th>\n",
       "      <td>-0.003961</td>\n",
       "      <td>-0.018762</td>\n",
       "      <td>0.013479</td>\n",
       "      <td>0.006083</td>\n",
       "    </tr>\n",
       "    <tr>\n",
       "      <th>2020-10-16</th>\n",
       "      <td>-0.014001</td>\n",
       "      <td>-0.002962</td>\n",
       "      <td>-0.009631</td>\n",
       "      <td>-0.004318</td>\n",
       "    </tr>\n",
       "  </tbody>\n",
       "</table>\n",
       "<p>704 rows × 4 columns</p>\n",
       "</div>"
      ],
      "text/plain": [
       "Symbols         AAPL        FB         C       DIS\n",
       "Date                                              \n",
       "2018-01-02       NaN       NaN       NaN       NaN\n",
       "2018-01-03 -0.000174  0.017914  0.003093  0.004293\n",
       "2018-01-04  0.004645 -0.001841  0.012334 -0.000445\n",
       "2018-01-05  0.011385  0.013671 -0.001324 -0.005435\n",
       "2018-01-08 -0.003714  0.007653 -0.011670 -0.014334\n",
       "...              ...       ...       ...       ...\n",
       "2020-10-12  0.063521  0.042730  0.021144 -0.000080\n",
       "2020-10-13 -0.026527  0.001414 -0.047951  0.031928\n",
       "2020-10-14  0.000743 -0.015644 -0.014881 -0.018378\n",
       "2020-10-15 -0.003961 -0.018762  0.013479  0.006083\n",
       "2020-10-16 -0.014001 -0.002962 -0.009631 -0.004318\n",
       "\n",
       "[704 rows x 4 columns]"
      ]
     },
     "execution_count": 19,
     "metadata": {},
     "output_type": "execute_result"
    }
   ],
   "source": [
    "#!pip install yfinance\n",
    "\n",
    "import pandas as pd\n",
    "from pandas_datareader import data as pdr\n",
    "import yfinance as yf\n",
    "import numpy as np\n",
    "import datetime as dt\n",
    "    \n",
    "# Create our portfolio of equities\n",
    "tickers = ['AAPL','FB', 'C', 'DIS']\n",
    " \n",
    "# Set the investment weights (I arbitrarily picked for example)\n",
    "weights = np.array([.25, .3, .15, .3])\n",
    " \n",
    "# Set an initial investment level\n",
    "initial_investment = 1000000\n",
    " \n",
    "# Download closing prices\n",
    "data = pdr.get_data_yahoo(tickers, start=\"2018-01-01\", end=dt.date.today())['Close']\n",
    " \n",
    "#From the closing prices, calculate periodic returns\n",
    "returns = data.pct_change()\n",
    "\n",
    "returns"
   ]
  },
  {
   "cell_type": "code",
   "execution_count": null,
   "metadata": {},
   "outputs": [],
   "source": []
  },
  {
   "cell_type": "code",
   "execution_count": 6,
   "metadata": {},
   "outputs": [
    {
     "data": {
      "text/html": [
       "<div>\n",
       "<style scoped>\n",
       "    .dataframe tbody tr th:only-of-type {\n",
       "        vertical-align: middle;\n",
       "    }\n",
       "\n",
       "    .dataframe tbody tr th {\n",
       "        vertical-align: top;\n",
       "    }\n",
       "\n",
       "    .dataframe thead th {\n",
       "        text-align: right;\n",
       "    }\n",
       "</style>\n",
       "<table border=\"1\" class=\"dataframe\">\n",
       "  <thead>\n",
       "    <tr style=\"text-align: right;\">\n",
       "      <th>Symbols</th>\n",
       "      <th>AAPL</th>\n",
       "      <th>FB</th>\n",
       "      <th>C</th>\n",
       "      <th>DIS</th>\n",
       "    </tr>\n",
       "    <tr>\n",
       "      <th>Symbols</th>\n",
       "      <th></th>\n",
       "      <th></th>\n",
       "      <th></th>\n",
       "      <th></th>\n",
       "    </tr>\n",
       "  </thead>\n",
       "  <tbody>\n",
       "    <tr>\n",
       "      <th>AAPL</th>\n",
       "      <td>0.000495</td>\n",
       "      <td>0.000327</td>\n",
       "      <td>0.000341</td>\n",
       "      <td>0.000238</td>\n",
       "    </tr>\n",
       "    <tr>\n",
       "      <th>FB</th>\n",
       "      <td>0.000327</td>\n",
       "      <td>0.000570</td>\n",
       "      <td>0.000310</td>\n",
       "      <td>0.000220</td>\n",
       "    </tr>\n",
       "    <tr>\n",
       "      <th>C</th>\n",
       "      <td>0.000341</td>\n",
       "      <td>0.000310</td>\n",
       "      <td>0.000763</td>\n",
       "      <td>0.000376</td>\n",
       "    </tr>\n",
       "    <tr>\n",
       "      <th>DIS</th>\n",
       "      <td>0.000238</td>\n",
       "      <td>0.000220</td>\n",
       "      <td>0.000376</td>\n",
       "      <td>0.000405</td>\n",
       "    </tr>\n",
       "  </tbody>\n",
       "</table>\n",
       "</div>"
      ],
      "text/plain": [
       "Symbols      AAPL        FB         C       DIS\n",
       "Symbols                                        \n",
       "AAPL     0.000495  0.000327  0.000341  0.000238\n",
       "FB       0.000327  0.000570  0.000310  0.000220\n",
       "C        0.000341  0.000310  0.000763  0.000376\n",
       "DIS      0.000238  0.000220  0.000376  0.000405"
      ]
     },
     "execution_count": 6,
     "metadata": {},
     "output_type": "execute_result"
    }
   ],
   "source": [
    "# Generate Var-Cov matrix\n",
    "cov_matrix = returns.cov()\n",
    "cov_matrix"
   ]
  },
  {
   "cell_type": "code",
   "execution_count": 7,
   "metadata": {},
   "outputs": [],
   "source": [
    "# Calculate mean returns for each stock\n",
    "avg_rets = returns.mean()\n",
    " \n",
    "# Calculate mean returns for portfolio overall, \n",
    "# using dot product to \n",
    "# normalize individual means against investment weights\n",
    " # https://en.wikipedia.org/wiki/Dot_product#:~:targetText=In%20mathematics%2C%20the%20dot%20product,and%20returns%20a%20single%20number.\n",
    "port_mean = avg_rets.dot(weights)\n",
    " \n",
    "# Calculate portfolio standard deviation\n",
    "port_stdev = np.sqrt(weights.T.dot(cov_matrix).dot(weights))\n",
    " \n",
    "# Calculate mean of investment\n",
    "mean_investment = (1+port_mean) * initial_investment\n",
    "             \n",
    "# Calculate standard deviation of investmnet\n",
    "stdev_investment = initial_investment * port_stdev"
   ]
  },
  {
   "cell_type": "code",
   "execution_count": 17,
   "metadata": {},
   "outputs": [],
   "source": [
    "# Select our confidence interval (I'll choose 95% here)\n",
    "conf_level1 = 0.05\n",
    "\n",
    "# Using SciPy ppf method to generate values for the\n",
    "# inverse cumulative distribution function to a normal distribution\n",
    "# Plugging in the mean, standard deviation of our portfolio\n",
    "# as calculated above\n",
    "# https://docs.scipy.org/doc/scipy/reference/generated/scipy.stats.norm.html\n",
    "from scipy.stats import norm\n",
    "cutoff1 = norm.ppf(conf_level1, mean_investment, stdev_investment)"
   ]
  },
  {
   "cell_type": "code",
   "execution_count": 9,
   "metadata": {},
   "outputs": [
    {
     "data": {
      "text/plain": [
       "29941.031705345144"
      ]
     },
     "execution_count": 9,
     "metadata": {},
     "output_type": "execute_result"
    }
   ],
   "source": [
    "#Finally, we can calculate the VaR at our confidence interval\n",
    "var_1d1 = initial_investment - cutoff1\n",
    "var_1d1\n",
    "#output\n",
    "#22347.7792230231"
   ]
  },
  {
   "cell_type": "code",
   "execution_count": 15,
   "metadata": {},
   "outputs": [
    {
     "name": "stdout",
     "output_type": "stream",
     "text": [
      "1 day VaR @ 95% confidence: 29941.03\n",
      "2 day VaR @ 95% confidence: 42343.01\n",
      "3 day VaR @ 95% confidence: 51859.39\n",
      "4 day VaR @ 95% confidence: 59882.06\n",
      "5 day VaR @ 95% confidence: 66950.18\n",
      "6 day VaR @ 95% confidence: 73340.25\n",
      "7 day VaR @ 95% confidence: 79216.52\n",
      "8 day VaR @ 95% confidence: 84686.03\n",
      "9 day VaR @ 95% confidence: 89823.1\n",
      "10 day VaR @ 95% confidence: 94681.86\n",
      "11 day VaR @ 95% confidence: 99303.17\n",
      "12 day VaR @ 95% confidence: 103718.78\n",
      "13 day VaR @ 95% confidence: 107953.93\n",
      "14 day VaR @ 95% confidence: 112029.08\n",
      "15 day VaR @ 95% confidence: 115961.12\n"
     ]
    },
    {
     "data": {
      "text/plain": [
       "[<matplotlib.lines.Line2D at 0x7fb15a9c3250>]"
      ]
     },
     "execution_count": 15,
     "metadata": {},
     "output_type": "execute_result"
    },
    {
     "data": {
      "image/png": "[encoded data removed]",
      "text/plain": [
       "<Figure size 432x288 with 1 Axes>"
      ]
     },
     "metadata": {
      "needs_background": "light"
     },
     "output_type": "display_data"
    }
   ],
   "source": [
    "# Calculate n Day VaR\n",
    "import matplotlib.pyplot as plt\n",
    "\n",
    "var_array = []\n",
    "num_days = int(15)\n",
    "for x in range(1, num_days+1):    \n",
    "    var_array.append(np.round(var_1d1 * np.sqrt(x),2))\n",
    "    print(str(x) + \" day VaR @ 95% confidence: \" + str(np.round(var_1d1 * np.sqrt(x),2)))\n",
    "\n",
    "# Build plot\n",
    "plt.xlabel(\"Day #\")\n",
    "plt.ylabel(\"Max portfolio loss (USD)\")\n",
    "plt.title(\"Max portfolio loss (VaR) over 15-day period\")\n",
    "plt.plot(var_array, \"r\")"
   ]
  },
  {
   "cell_type": "code",
   "execution_count": 18,
   "metadata": {},
   "outputs": [
    {
     "name": "stderr",
     "output_type": "stream",
     "text": [
      "/Applications/anaconda3/lib/python3.7/site-packages/pandas/plotting/_matplotlib/hist.py:309: MatplotlibDeprecationWarning: \n",
      "The 'normed' kwarg was deprecated in Matplotlib 2.1 and will be removed in 3.1. Use 'density' instead.\n",
      "  ax.hist(values, bins=bins, **kwds)\n"
     ]
    },
    {
     "data": {
      "image/png": "[encoded data removed]",
      "text/plain": [
       "<Figure size 432x288 with 1 Axes>"
      ]
     },
     "metadata": {
      "needs_background": "light"
     },
     "output_type": "display_data"
    }
   ],
   "source": [
    "import matplotlib.mlab as mlab\n",
    "import matplotlib.pyplot as plt\n",
    "import scipy\n",
    "\n",
    "# Repeat for each equity in portfolio\n",
    "returns['AAPL'].hist(bins=40, normed=True,histtype=\"stepfilled\",alpha=0.5)\n",
    "x = np.linspace(port_mean - 3*port_stdev, port_mean+3*port_stdev,100)\n",
    "plt.plot(x, scipy.stats.norm.pdf(x, port_mean, port_stdev), \"r\")\n",
    "plt.title(\"AAPL returns (binned) vs. normal distribution\")\n",
    "plt.show()"
   ]
  },
  {
   "cell_type": "code",
   "execution_count": 25,
   "metadata": {},
   "outputs": [
    {
     "name": "stdout",
     "output_type": "stream",
     "text": [
      "Cloning into 'python-zillow'...\n",
      "remote: Enumerating objects: 181, done.\u001b[K\n",
      "remote: Total 181 (delta 0), reused 0 (delta 0), pack-reused 181\u001b[K\n",
      "Receiving objects: 100% (181/181), 41.32 KiB | 755.00 KiB/s, done.\n",
      "Resolving deltas: 100% (90/90), done.\n"
     ]
    }
   ],
   "source": [
    "!git clone git://github.com/seme0021/python-zillow.git\n",
    "!cd python-zillow"
   ]
  },
  {
   "cell_type": "code",
   "execution_count": 28,
   "metadata": {},
   "outputs": [
    {
     "name": "stdout",
     "output_type": "stream",
     "text": [
      "created virtual environment CPython3.7.6.final.0-64 in 5015ms\r\n",
      "  creator CPython3Posix(dest=/Users/DRNPRO/Documents/GitHub/Dub-Hacks-2020/env, clear=False, global=False)\r\n",
      "  seeder FromAppData(download=False, pip=bundle, setuptools=bundle, wheel=bundle, via=copy, app_data_dir=/Users/DRNPRO/Library/Application Support/virtualenv)\r\n",
      "    added seed packages: pip==20.2.3, setuptools==50.3.0, wheel==0.35.1\r\n",
      "  activators BashActivator,CShellActivator,FishActivator,PowerShellActivator,PythonActivator,XonshActivator\r\n"
     ]
    }
   ],
   "source": [
    "!virtualenv env\n"
   ]
  },
  {
   "cell_type": "code",
   "execution_count": 29,
   "metadata": {},
   "outputs": [],
   "source": [
    "! source env/bin/activate\n"
   ]
  },
  {
   "cell_type": "code",
   "execution_count": 32,
   "metadata": {},
   "outputs": [
    {
     "name": "stdout",
     "output_type": "stream",
     "text": [
      "Requirement already satisfied: nose in /Applications/anaconda3/lib/python3.7/site-packages (1.3.7)\r\n"
     ]
    }
   ],
   "source": [
    "!pip install nose"
   ]
  },
  {
   "cell_type": "code",
   "execution_count": 69,
   "metadata": {},
   "outputs": [
    {
     "name": "stdout",
     "output_type": "stream",
     "text": [
      "created virtual environment CPython3.7.6.final.0-64 in 1299ms\r\n",
      "  creator CPython3Posix(dest=/Users/DRNPRO/Documents/GitHub/Dub-Hacks-2020/env, clear=False, global=False)\r\n",
      "  seeder FromAppData(download=False, pip=bundle, setuptools=bundle, wheel=bundle, via=copy, app_data_dir=/Users/DRNPRO/Library/Application Support/virtualenv)\r\n",
      "    added seed packages: pip==20.2.3, setuptools==50.3.0, wheel==0.35.1\r\n",
      "  activators BashActivator,CShellActivator,FishActivator,PowerShellActivator,PythonActivator,XonshActivator\r\n"
     ]
    }
   ],
   "source": [
    "! virtualenv env"
   ]
  },
  {
   "cell_type": "code",
   "execution_count": 70,
   "metadata": {},
   "outputs": [],
   "source": [
    "! source /Users/DRNPRO/Documents/GitHub/Dub-Hacks-2020/env/bin/activate\n"
   ]
  },
  {
   "cell_type": "code",
   "execution_count": 72,
   "metadata": {},
   "outputs": [
    {
     "name": "stdout",
     "output_type": "stream",
     "text": [
      "make: *** No rule to make target `test'.  Stop.\r\n"
     ]
    }
   ],
   "source": [
    "!make test\n"
   ]
  },
  {
   "cell_type": "code",
   "execution_count": 73,
   "metadata": {},
   "outputs": [
    {
     "name": "stdout",
     "output_type": "stream",
     "text": [
      "make: *** No rule to make target `coverage'.  Stop.\r\n"
     ]
    }
   ],
   "source": [
    "!make coverage\n"
   ]
  },
  {
   "cell_type": "code",
   "execution_count": 86,
   "metadata": {},
   "outputs": [],
   "source": [
    "#!pip install python-zillow\n",
    "\n",
    "import zillow\n",
    "key = 'X1-ZWz1i1pylzearv_8tgid'\n",
    "api = zillow.ValuationApi()"
   ]
  },
  {
   "cell_type": "code",
   "execution_count": 87,
   "metadata": {},
   "outputs": [
    {
     "ename": "ZillowError",
     "evalue": "{'message': 'Zillow did not return a valid response: <?xml version=\"1.0\" encoding=\"utf-8\"?><SearchResults:searchresults xsi:schemaLocation=\"http://www.zillow.com/static/xsd/SearchResults.xsd https://www.zillowstatic.com/vstatic/80d5e73/static/xsd/SearchResults.xsd\" xmlns:xsi=\"http://www.w3.org/2001/XMLSchema-instance\" xmlns:SearchResults=\"http://www.zillow.com/static/xsd/SearchResults.xsd\"><request><address></address><citystatezip></citystatezip></request><message><text>Error: this account is not authorized to execute this API call</text><code>6</code></message></SearchResults:searchresults><!-- H:001  T:2ms  S:150  R:Sat Oct 17 15:59:13 PDT 2020  B:5.0.66180-master.b6c2130~delivery_ready.7ab249bc -->'}",
     "output_type": "error",
     "traceback": [
      "\u001b[0;31m---------------------------------------------------------------------------\u001b[0m",
      "\u001b[0;31mKeyError\u001b[0m                                  Traceback (most recent call last)",
      "\u001b[0;32m/Applications/anaconda3/lib/python3.7/site-packages/zillow/api.py\u001b[0m in \u001b[0;36mGetSearchResults\u001b[0;34m(self, zws_id, address, citystatezip, retnzestimate)\u001b[0m\n\u001b[1;32m     63\u001b[0m         \u001b[0;32mtry\u001b[0m\u001b[0;34m:\u001b[0m\u001b[0;34m\u001b[0m\u001b[0;34m\u001b[0m\u001b[0m\n\u001b[0;32m---> 64\u001b[0;31m             \u001b[0mplace\u001b[0m\u001b[0;34m.\u001b[0m\u001b[0mset_data\u001b[0m\u001b[0;34m(\u001b[0m\u001b[0mxmltodict_data\u001b[0m\u001b[0;34m.\u001b[0m\u001b[0mget\u001b[0m\u001b[0;34m(\u001b[0m\u001b[0;34m'SearchResults:searchresults'\u001b[0m\u001b[0;34m,\u001b[0m \u001b[0;32mNone\u001b[0m\u001b[0;34m)\u001b[0m\u001b[0;34m[\u001b[0m\u001b[0;34m'response'\u001b[0m\u001b[0;34m]\u001b[0m\u001b[0;34m[\u001b[0m\u001b[0;34m'results'\u001b[0m\u001b[0;34m]\u001b[0m\u001b[0;34m[\u001b[0m\u001b[0;34m'result'\u001b[0m\u001b[0;34m]\u001b[0m\u001b[0;34m)\u001b[0m\u001b[0;34m\u001b[0m\u001b[0;34m\u001b[0m\u001b[0m\n\u001b[0m\u001b[1;32m     65\u001b[0m         \u001b[0;32mexcept\u001b[0m\u001b[0;34m:\u001b[0m\u001b[0;34m\u001b[0m\u001b[0;34m\u001b[0m\u001b[0m\n",
      "\u001b[0;31mKeyError\u001b[0m: 'response'",
      "\nDuring handling of the above exception, another exception occurred:\n",
      "\u001b[0;31mZillowError\u001b[0m                               Traceback (most recent call last)",
      "\u001b[0;32m<ipython-input-87-c3593bc462a7>\u001b[0m in \u001b[0;36m<module>\u001b[0;34m\u001b[0m\n\u001b[1;32m      2\u001b[0m \u001b[0mpostal_code\u001b[0m \u001b[0;34m=\u001b[0m \u001b[0;34m\"78705\"\u001b[0m\u001b[0;34m\u001b[0m\u001b[0;34m\u001b[0m\u001b[0m\n\u001b[1;32m      3\u001b[0m \u001b[0;34m\u001b[0m\u001b[0m\n\u001b[0;32m----> 4\u001b[0;31m \u001b[0mdata\u001b[0m \u001b[0;34m=\u001b[0m \u001b[0mapi\u001b[0m\u001b[0;34m.\u001b[0m\u001b[0mGetSearchResults\u001b[0m\u001b[0;34m(\u001b[0m\u001b[0mkey\u001b[0m\u001b[0;34m,\u001b[0m \u001b[0maddress\u001b[0m\u001b[0;34m,\u001b[0m \u001b[0mpostal_code\u001b[0m\u001b[0;34m)\u001b[0m\u001b[0;34m\u001b[0m\u001b[0;34m\u001b[0m\u001b[0m\n\u001b[0m",
      "\u001b[0;32m/Applications/anaconda3/lib/python3.7/site-packages/zillow/api.py\u001b[0m in \u001b[0;36mGetSearchResults\u001b[0;34m(self, zws_id, address, citystatezip, retnzestimate)\u001b[0m\n\u001b[1;32m     64\u001b[0m             \u001b[0mplace\u001b[0m\u001b[0;34m.\u001b[0m\u001b[0mset_data\u001b[0m\u001b[0;34m(\u001b[0m\u001b[0mxmltodict_data\u001b[0m\u001b[0;34m.\u001b[0m\u001b[0mget\u001b[0m\u001b[0;34m(\u001b[0m\u001b[0;34m'SearchResults:searchresults'\u001b[0m\u001b[0;34m,\u001b[0m \u001b[0;32mNone\u001b[0m\u001b[0;34m)\u001b[0m\u001b[0;34m[\u001b[0m\u001b[0;34m'response'\u001b[0m\u001b[0;34m]\u001b[0m\u001b[0;34m[\u001b[0m\u001b[0;34m'results'\u001b[0m\u001b[0;34m]\u001b[0m\u001b[0;34m[\u001b[0m\u001b[0;34m'result'\u001b[0m\u001b[0;34m]\u001b[0m\u001b[0;34m)\u001b[0m\u001b[0;34m\u001b[0m\u001b[0;34m\u001b[0m\u001b[0m\n\u001b[1;32m     65\u001b[0m         \u001b[0;32mexcept\u001b[0m\u001b[0;34m:\u001b[0m\u001b[0;34m\u001b[0m\u001b[0;34m\u001b[0m\u001b[0m\n\u001b[0;32m---> 66\u001b[0;31m             \u001b[0;32mraise\u001b[0m \u001b[0mZillowError\u001b[0m\u001b[0;34m(\u001b[0m\u001b[0;34m{\u001b[0m\u001b[0;34m'message'\u001b[0m\u001b[0;34m:\u001b[0m \u001b[0;34m\"Zillow did not return a valid response: %s\"\u001b[0m \u001b[0;34m%\u001b[0m \u001b[0mdata\u001b[0m\u001b[0;34m}\u001b[0m\u001b[0;34m)\u001b[0m\u001b[0;34m\u001b[0m\u001b[0;34m\u001b[0m\u001b[0m\n\u001b[0m\u001b[1;32m     67\u001b[0m \u001b[0;34m\u001b[0m\u001b[0m\n\u001b[1;32m     68\u001b[0m         \u001b[0;32mreturn\u001b[0m \u001b[0mplace\u001b[0m\u001b[0;34m\u001b[0m\u001b[0;34m\u001b[0m\u001b[0m\n",
      "\u001b[0;31mZillowError\u001b[0m: {'message': 'Zillow did not return a valid response: <?xml version=\"1.0\" encoding=\"utf-8\"?><SearchResults:searchresults xsi:schemaLocation=\"http://www.zillow.com/static/xsd/SearchResults.xsd https://www.zillowstatic.com/vstatic/80d5e73/static/xsd/SearchResults.xsd\" xmlns:xsi=\"http://www.w3.org/2001/XMLSchema-instance\" xmlns:SearchResults=\"http://www.zillow.com/static/xsd/SearchResults.xsd\"><request><address></address><citystatezip></citystatezip></request><message><text>Error: this account is not authorized to execute this API call</text><code>6</code></message></SearchResults:searchresults><!-- H:001  T:2ms  S:150  R:Sat Oct 17 15:59:13 PDT 2020  B:5.0.66180-master.b6c2130~delivery_ready.7ab249bc -->'}"
     ]
    }
   ],
   "source": [
    "address = \"2841 San Gabriel Street, Austin, TX\"\n",
    "postal_code = \"78705\"\n",
    "\n",
    "data = api.GetSearchResults(key, address, postal_code)"
   ]
  },
  {
   "cell_type": "code",
   "execution_count": null,
   "metadata": {},
   "outputs": [],
   "source": [
    "GetSearchResults(address, citystatezip = address,\n",
    "  rentzestimate = FALSE, zws_id = getOption(\"ZillowR-zws_id\"),\n",
    "  url = \"http://www.zillow.com/webservice/GetSearchResults.htm\")"
   ]
  },
  {
   "cell_type": "code",
   "execution_count": 82,
   "metadata": {},
   "outputs": [
    {
     "ename": "NameError",
     "evalue": "name 'GetSearchResults' is not defined",
     "output_type": "error",
     "traceback": [
      "\u001b[0;31m---------------------------------------------------------------------------\u001b[0m",
      "\u001b[0;31mNameError\u001b[0m                                 Traceback (most recent call last)",
      "\u001b[0;32m<ipython-input-82-b15c8cde20af>\u001b[0m in \u001b[0;36m<module>\u001b[0;34m\u001b[0m\n\u001b[0;32m----> 1\u001b[0;31m \u001b[0mGetSearchResults\u001b[0m\u001b[0;34m(\u001b[0m\u001b[0maddress\u001b[0m \u001b[0;34m=\u001b[0m \u001b[0;34m'2114 Bigelow Ave'\u001b[0m\u001b[0;34m,\u001b[0m \u001b[0mcitystatezip\u001b[0m \u001b[0;34m=\u001b[0m \u001b[0;34m'Seattle, WA'\u001b[0m\u001b[0;34m)\u001b[0m\u001b[0;34m\u001b[0m\u001b[0;34m\u001b[0m\u001b[0m\n\u001b[0m",
      "\u001b[0;31mNameError\u001b[0m: name 'GetSearchResults' is not defined"
     ]
    }
   ],
   "source": [
    "GetSearchResults(address = '2114 Bigelow Ave', citystatezip = 'Seattle, WA')\n"
   ]
  },
  {
   "cell_type": "code",
   "execution_count": null,
   "metadata": {},
   "outputs": [],
   "source": []
  },
  {
   "cell_type": "code",
   "execution_count": 83,
   "metadata": {},
   "outputs": [
    {
     "ename": "ImportError",
     "evalue": "attempted relative import with no known parent package",
     "output_type": "error",
     "traceback": [
      "\u001b[0;31m---------------------------------------------------------------------------\u001b[0m",
      "\u001b[0;31mImportError\u001b[0m                               Traceback (most recent call last)",
      "\u001b[0;32m<ipython-input-83-6f84700dcf57>\u001b[0m in \u001b[0;36m<module>\u001b[0;34m\u001b[0m\n\u001b[1;32m      9\u001b[0m     \u001b[0;32mfrom\u001b[0m \u001b[0murllib\u001b[0m \u001b[0;32mimport\u001b[0m \u001b[0murlencode\u001b[0m\u001b[0;34m\u001b[0m\u001b[0;34m\u001b[0m\u001b[0m\n\u001b[1;32m     10\u001b[0m \u001b[0;34m\u001b[0m\u001b[0m\n\u001b[0;32m---> 11\u001b[0;31m \u001b[0;32mfrom\u001b[0m \u001b[0;34m.\u001b[0m\u001b[0merror\u001b[0m \u001b[0;32mimport\u001b[0m \u001b[0mZillowError\u001b[0m\u001b[0;34m\u001b[0m\u001b[0;34m\u001b[0m\u001b[0m\n\u001b[0m\u001b[1;32m     12\u001b[0m \u001b[0;32mfrom\u001b[0m \u001b[0;34m.\u001b[0m\u001b[0mplace\u001b[0m \u001b[0;32mimport\u001b[0m \u001b[0mPlace\u001b[0m\u001b[0;34m\u001b[0m\u001b[0;34m\u001b[0m\u001b[0m\n\u001b[1;32m     13\u001b[0m \u001b[0;34m\u001b[0m\u001b[0m\n",
      "\u001b[0;31mImportError\u001b[0m: attempted relative import with no known parent package"
     ]
    }
   ],
   "source": [
    "import requests\n",
    "import xmltodict\n",
    "\n",
    "try:\n",
    "    # python 3\n",
    "    from urllib.parse import urlparse, urlunparse, urlencode\n",
    "except ImportError:\n",
    "    from urlparse import urlparse, urlunparse\n",
    "    from urllib import urlencode\n",
    "\n",
    "from .error import ZillowError\n",
    "from .place import Place\n",
    "\n",
    "\n",
    "class ValuationApi(object):\n",
    "    \"\"\"\n",
    "    A python interface into the Zillow API\n",
    "    By default, the Api caches results for 1 minute.\n",
    "    Example usage:\n",
    "      To create an instance of the zillow.ValuationApi class:\n",
    "        >>> import zillow\n",
    "        >>> api = zillow.ValuationApi()\n",
    "    All available methods include:\n",
    "        >>> data = api.GetSearchResults(\"<your key here>\", \"<your address here>\", \"<your zip here>\")\n",
    "    \"\"\"\n",
    "    def __init__(self):\n",
    "        self.base_url = \"https://www.zillow.com/webservice\"\n",
    "        self._input_encoding = None\n",
    "        self._request_headers=None\n",
    "        self.__auth = None\n",
    "        self._timeout = None\n",
    "\n",
    "    def GetSearchResults(self, zws_id, address, citystatezip, retnzestimate=False):\n",
    "        \"\"\"\n",
    "        The GetSearchResults API finds a property for a specified address.\n",
    "        The content returned contains the address for the property or properties as well as the Zillow Property ID (ZPID) and current Zestimate.\n",
    "        It also includes the date the Zestimate was computed, a valuation range and the Zestimate ranking for the property within its ZIP code.\n",
    "        The GetSearchResults API Web Service is located at: http://www.zillow.com/webservice/GetSearchResults.htm\n",
    "        :param zws_id: The Zillow Web Service Identifier. Each subscriber to Zillow Web Services is uniquely identified by an ID sequence and every request to Web services requires this ID.\n",
    "        :param address: The address of the property to search. This string should be URL encoded.\n",
    "        :param citystatezip: The city+state combination and/or ZIP code for which to search. This string should be URL encoded. Note that giving both city and state is required. Using just one will not work.\n",
    "        :param retnzestimat: Return Rent Zestimate information if available (boolean true/false, default: false)\n",
    "        :return:\n",
    "        \"\"\"\n",
    "        url = '%s/GetSearchResults.htm' % (self.base_url)\n",
    "        parameters = {'zws-id': zws_id}\n",
    "        if address and citystatezip:\n",
    "            parameters['address'] = address\n",
    "            parameters['citystatezip'] = citystatezip\n",
    "        else:\n",
    "            raise ZillowError({'message': \"Specify address and citystatezip.\"})\n",
    "        if retnzestimate:\n",
    "            parameters['retnzestimate'] = 'true'\n",
    "\n",
    "        resp = self._RequestUrl(url, 'GET', data=parameters)\n",
    "        data = resp.content.decode('utf-8')\n",
    "\n",
    "        xmltodict_data = xmltodict.parse(data)\n",
    "\n",
    "        place = Place()\n",
    "        try:\n",
    "            place.set_data(xmltodict_data.get('SearchResults:searchresults', None)['response']['results']['result'])\n",
    "        except:\n",
    "            raise ZillowError({'message': \"Zillow did not return a valid response: %s\" % data})\n",
    "\n",
    "        return place\n",
    "\n",
    "    def GetZEstimate(self, zws_id, zpid, retnzestimate=False):\n",
    "        \"\"\"\n",
    "        The GetZestimate API will only surface properties for which a Zestimate exists.\n",
    "        If a request is made for a property that has no Zestimate, an error code is returned.\n",
    "        Zillow doesn't have Zestimates for all the homes in its database.\n",
    "        For such properties, we do have tax assessment data, but that is not provided through the API.\n",
    "        For more information, see our Zestimate coverage.\n",
    "        :zws_id: The Zillow Web Service Identifier.\n",
    "        :param zpid: The address of the property to search. This string should be URL encoded.\n",
    "        :param retnzestimate: Return Rent Zestimate information if available (boolean true/false, default: false)\n",
    "        :return:\n",
    "        \"\"\"\n",
    "        url = '%s/GetZestimate.htm' % (self.base_url)\n",
    "        parameters = {'zws-id': zws_id,\n",
    "                      'zpid': zpid}\n",
    "        if retnzestimate:\n",
    "            parameters['retnzestimate'] = 'true'\n",
    "\n",
    "        resp = self._RequestUrl(url, 'GET', data=parameters)\n",
    "        data = resp.content.decode('utf-8')\n",
    "\n",
    "        xmltodict_data = xmltodict.parse(data)\n",
    "\n",
    "        place = Place()\n",
    "        try:\n",
    "            place.set_data(xmltodict_data.get('Zestimate:zestimate', None)['response'])\n",
    "        except:\n",
    "            raise ZillowError({'message': \"Zillow did not return a valid response: %s\" % data})\n",
    "\n",
    "        return place\n",
    "\n",
    "    def GetDeepSearchResults(self, zws_id, address, citystatezip, retnzestimate=False):\n",
    "        \"\"\"\n",
    "        The GetDeepSearchResults API finds a property for a specified address.\n",
    "        The result set returned contains the full address(s), zpid and Zestimate data that is provided by the GetSearchResults API.\n",
    "        Moreover, this API call also gives rich property data like lot size, year built, bath/beds, last sale details etc.\n",
    "        :zws_id: The Zillow Web Service Identifier.\n",
    "        :param address: The address of the property to search. This string should be URL encoded.\n",
    "        :param citystatezip: The city+state combination and/or ZIP code for which to search.\n",
    "        :param retnzestimate: Return Rent Zestimate information if available (boolean true/false, default: false)\n",
    "        :return:\n",
    "        Example:\n",
    "        \"\"\"\n",
    "        url = '%s/GetDeepSearchResults.htm' % (self.base_url)\n",
    "        parameters = {'zws-id': zws_id,\n",
    "                      'address': address,\n",
    "                      'citystatezip': citystatezip\n",
    "                      }\n",
    "\n",
    "        if retnzestimate:\n",
    "            parameters['retnzestimate'] = 'true'\n",
    "\n",
    "        resp = self._RequestUrl(url, 'GET', data=parameters)\n",
    "        data = resp.content.decode('utf-8')\n",
    "\n",
    "        xmltodict_data = xmltodict.parse(data)\n",
    "\n",
    "        place = Place(has_extended_data=True)\n",
    "        try:\n",
    "            place.set_data(xmltodict_data.get('SearchResults:searchresults', None)['response']['results']['result'])\n",
    "        except:\n",
    "            raise ZillowError({'message': \"Zillow did not return a valid response: %s\" % data})\n",
    "\n",
    "        return place\n",
    "\n",
    "    def GetDeepComps(self, zws_id, zpid, count=10, rentzestimate=False):\n",
    "        \"\"\"\n",
    "        The GetDeepComps API returns a list of comparable recent sales for a specified property.\n",
    "        The result set returned contains the address, Zillow property identifier, and Zestimate for the comparable\n",
    "        properties and the principal property for which the comparables are being retrieved.\n",
    "        This API call also returns rich property data for the comparables.\n",
    "        :param zws_id: The Zillow Web Service Identifier.\n",
    "        :param zpid: The address of the property to search. This string should be URL encoded.\n",
    "        :param count: The number of comparable recent sales to obtain (integer between 1 and 25)\n",
    "        :param rentzestimate: Return Rent Zestimate information if available (boolean true/false, default: false)\n",
    "        :return:\n",
    "        Example\n",
    "            >>> data = api.GetDeepComps(\"<your key here>\", 2100641621, 10)\n",
    "        \"\"\"\n",
    "        url = '%s/GetDeepComps.htm' % (self.base_url)\n",
    "        parameters = {'zws-id': zws_id,\n",
    "                      'zpid': zpid,\n",
    "                      'count': count}\n",
    "        if rentzestimate:\n",
    "            parameters['rentzestimate'] = 'true'\n",
    "\n",
    "        resp = self._RequestUrl(url, 'GET', data=parameters)\n",
    "        data = resp.content.decode('utf-8')\n",
    "\n",
    "        # transform the data to an dict-like object\n",
    "        xmltodict_data = xmltodict.parse(data)\n",
    "\n",
    "        # get the principal property data\n",
    "        principal_place = Place()\n",
    "        principal_data = xmltodict_data.get('Comps:comps')['response']['properties']['principal']\n",
    "\n",
    "        try:\n",
    "            principal_place.set_data(principal_data)\n",
    "        except:\n",
    "            raise ZillowError({'message': 'No principal data found: %s' % data})\n",
    "\n",
    "        # get the comps property_data\n",
    "        comps = xmltodict_data.get('Comps:comps')['response']['properties']['comparables']['comp']\n",
    "\n",
    "        comp_places = []\n",
    "        for datum in comps:\n",
    "            place = Place()\n",
    "            try:\n",
    "                place.set_data(datum)\n",
    "                comp_places.append(place)\n",
    "            except:\n",
    "                raise ZillowError({'message': 'No valid comp data found %s' % datum})\n",
    "\n",
    "        output = {\n",
    "            'principal': principal_place,\n",
    "            'comps': comp_places\n",
    "        }\n",
    "\n",
    "        return output\n",
    "\n",
    "    def GetComps(self, zws_id, zpid, count=25, rentzestimate=False):\n",
    "        \"\"\"\n",
    "        The GetComps API returns a list of comparable recent sales for a specified property.\n",
    "        The result set returned contains the address, Zillow property identifier,\n",
    "        and Zestimate for the comparable properties and the principal property for which the comparables are being retrieved.\n",
    "        :param zpid: The address of the property to search. This string should be URL encoded.\n",
    "        :param count: The number of comparable recent sales to obtain (integer between 1 and 25)\n",
    "        :param retnzestimate: Return Rent Zestimate information if available (boolean true/false, default: false)\n",
    "        :return:\n",
    "        \"\"\"\n",
    "        url = '%s/GetComps.htm' % (self.base_url)\n",
    "        parameters = {'zws-id': zws_id,\n",
    "                      'zpid': zpid,\n",
    "                      'count': count}\n",
    "        if rentzestimate:\n",
    "            parameters['rentzestimate'] = 'true'\n",
    "\n",
    "        resp = self._RequestUrl(url, 'GET', data=parameters)\n",
    "        data = resp.content.decode('utf-8')\n",
    "\n",
    "        # transform the data to an dict-like object\n",
    "        xmltodict_data = xmltodict.parse(data)\n",
    "\n",
    "        # get the principal property data\n",
    "        principal_place = Place()\n",
    "        principal_data = xmltodict_data.get('Comps:comps')['response']['properties']['principal']\n",
    "\n",
    "        try:\n",
    "            principal_place.set_data(principal_data)\n",
    "        except:\n",
    "            raise ZillowError({'message': 'No principal data found: %s' % data})\n",
    "\n",
    "        # get the comps property_data\n",
    "        comps = xmltodict_data.get('Comps:comps')['response']['properties']['comparables']['comp']\n",
    "\n",
    "        comp_places = []\n",
    "        for datum in comps:\n",
    "            place = Place()\n",
    "            try:\n",
    "                place.set_data(datum)\n",
    "                comp_places.append(place)\n",
    "            except:\n",
    "                raise ZillowError({'message': 'No valid comp data found %s' % datum})\n",
    "\n",
    "        output = {\n",
    "            'principal': principal_place,\n",
    "            'comps': comp_places\n",
    "        }\n",
    "\n",
    "        return output\n",
    "\n",
    "    def _RequestUrl(self, url, verb, data=None):\n",
    "        \"\"\"\n",
    "        Request a url.\n",
    "        :param url: The web location we want to retrieve.\n",
    "        :param verb: GET only (for now).\n",
    "        :param data: A dict of (str, unicode) key/value pairs.\n",
    "        :return:A JSON object.\n",
    "        \"\"\"\n",
    "        if verb == 'GET':\n",
    "            url = self._BuildUrl(url, extra_params=data)\n",
    "            try:\n",
    "                return requests.get(\n",
    "                    url,\n",
    "                    auth=self.__auth,\n",
    "                    timeout=self._timeout\n",
    "                )\n",
    "            except requests.RequestException as e:\n",
    "                raise ZillowError(str(e))\n",
    "        return 0\n",
    "\n",
    "    def _BuildUrl(self, url, path_elements=None, extra_params=None):\n",
    "        \"\"\"\n",
    "        Taken from: https://github.com/bear/python-twitter/blob/master/twitter/api.py#L3814-L3836\n",
    "        :param url:\n",
    "        :param path_elements:\n",
    "        :param extra_params:\n",
    "        :return:\n",
    "        \"\"\"\n",
    "        # Break url into constituent parts\n",
    "        (scheme, netloc, path, params, query, fragment) = urlparse(url)\n",
    "\n",
    "        # Add any additional path elements to the path\n",
    "        if path_elements:\n",
    "            # Filter out the path elements that have a value of None\n",
    "            p = [i for i in path_elements if i]\n",
    "            if not path.endswith('/'):\n",
    "                path += '/'\n",
    "            path += '/'.join(p)\n",
    "\n",
    "        # Add any additional query parameters to the query string\n",
    "        if extra_params and len(extra_params) > 0:\n",
    "            extra_query = self._EncodeParameters(extra_params)\n",
    "            # Add it to the existing query\n",
    "            if query:\n",
    "                query += '&' + extra_query\n",
    "            else:\n",
    "                query = extra_query\n",
    "\n",
    "        # Return the rebuilt URL\n",
    "        return urlunparse((scheme, netloc, path, params, query, fragment))\n",
    "\n",
    "    def _EncodeParameters(self, parameters):\n",
    "        \"\"\"\n",
    "        Return a string in key=value&key=value form.\n",
    "        :param parameters: A dict of (key, value) tuples, where value is encoded as specified by self._encoding\n",
    "        :return:A URL-encoded string in \"key=value&key=value\" form\n",
    "        \"\"\"\n",
    "\n",
    "        if parameters is None:\n",
    "            return None\n",
    "        else:\n",
    "            return urlencode(dict([(k, self._Encode(v)) for k, v in list(parameters.items()) if v is not None]))\n",
    "\n",
    "    def _Encode(self, s):\n",
    "        if self._input_encoding:\n",
    "            return str(s, self._input_encoding).encode('utf-8')\n",
    "        else:\n",
    "            return str(s).encode('utf-8')"
   ]
  },
  {
   "cell_type": "code",
   "execution_count": 94,
   "metadata": {},
   "outputs": [
    {
     "name": "stdout",
     "output_type": "stream",
     "text": [
      "{\"message\":\"You are not subscribed to this API.\"}\n"
     ]
    }
   ],
   "source": [
    "import requests\n",
    "\n",
    "url = \"https://rapidapi.p.rapidapi.com/budgets/generate\"\n",
    "\n",
    "payload = \"{\\n    \\\"budget\\\": {\\n        \\\"education\\\": 0,\\n        \\\"health_insurance\\\": 0,\\n        \\\"mortgage_and_rent\\\": 9600,\\n        \\\"prescription_drugs\\\": 0,\\n        \\\"savings\\\": 2400,\\n        \\\"tobacco_and_smoking\\\": 0,\\n        \\\"vehicle_purchase_and_lease\\\": 3000\\n    },\\n    \\\"demographics\\\": {\\n        \\\"age\\\": 25,\\n        \\\"gross_annual_income\\\": 50000,\\n        \\\"household_members\\\": 1,\\n        \\\"is_homeowner\\\": false,\\n        \\\"net_annual_income\\\": 41004,\\n        \\\"zip\\\": \\\"35210\\\"\\n    }\\n}\"\n",
    "headers = {\n",
    "    'content-type': \"application/json\",\n",
    "    'x-rapidapi-host': \"spendid.p.rapidapi.com\",\n",
    "    'x-rapidapi-key': \"5cd84a9b57mshbc05aeeb244c1b4p1258aejsnfd86037a487b\"\n",
    "    }\n",
    "\n",
    "response = requests.request(\"POST\", url, data=payload, headers=headers)\n",
    "\n",
    "print(response.text)"
   ]
  },
  {
   "cell_type": "code",
   "execution_count": null,
   "metadata": {},
   "outputs": [],
   "source": []
  }
 ],
 "metadata": {
  "kernelspec": {
   "display_name": "Python 3",
   "language": "python",
   "name": "python3"
  },
  "language_info": {
   "codemirror_mode": {
    "name": "ipython",
    "version": 3
   },
   "file_extension": ".py",
   "mimetype": "text/x-python",
   "name": "python",
   "nbconvert_exporter": "python",
   "pygments_lexer": "ipython3",
   "version": "3.7.6"
  }
 },
 "nbformat": 4,
 "nbformat_minor": 4
}
